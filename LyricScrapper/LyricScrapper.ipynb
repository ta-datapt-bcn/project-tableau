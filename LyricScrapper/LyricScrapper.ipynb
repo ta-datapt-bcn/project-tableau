{
 "cells": [
  {
   "cell_type": "code",
   "execution_count": null,
   "id": "freelance-colon",
   "metadata": {},
   "outputs": [],
   "source": [
    "#Libreria para conseguir Lyrics: lyricsgenius\n",
    "\n",
    "#https://lyricsgenius.readthedocs.io/en/master/reference/api.html\n",
    "#https://github.com/johnwmillr/LyricsGenius/blob/master/README.md\n",
    "#https://rareloot.medium.com/how-to-download-an-artists-lyrics-from-genius-com-using-python-984d298951c6\n",
    "\n",
    "#Error, usar Try & Except\n",
    "#https://github.com/johnwmillr/LyricsGenius/issues/121"
   ]
  },
  {
   "cell_type": "code",
   "execution_count": 2,
   "id": "included-prototype",
   "metadata": {},
   "outputs": [],
   "source": [
    "from lyricsgenius import Genius\n",
    "from itertools import islice\n",
    "from requests.exceptions import Timeout\n",
    "import re\n",
    "import pandas as pd"
   ]
  },
  {
   "cell_type": "code",
   "execution_count": 3,
   "id": "imported-juice",
   "metadata": {},
   "outputs": [],
   "source": [
    "df = pd.read_csv('unique_songs.csv')"
   ]
  },
  {
   "cell_type": "code",
   "execution_count": null,
   "id": "existing-belly",
   "metadata": {},
   "outputs": [
    {
     "name": "stdout",
     "output_type": "stream",
     "text": [
      "Searching for \"Tusa\" by KAROL G, Nicki Minaj...\n"
     ]
    }
   ],
   "source": [
    "g_token = 'MQHlX9NB9y1g3dEvFxnZiW2DHbewB1J2OmL3aHaBFjEWhEJlXG5pIQUWPUF_KS7z' #Token de Genius\n",
    "\n",
    "#timeout (int, optional) – time before quitting on response (seconds).\n",
    "#sleep_time (str, optional) – time to wait between requests.\n",
    "genius = Genius(g_token, timeout=15, sleep_time=40) \n",
    "\n",
    "for index, row in islice(df.iterrows(), 0, None): #Iteramos sobre todas las filas del Dataset\n",
    "    artist = row['Artists']            #Variable con el nombre de los artistas\n",
    "    track = row['Track']               #Variable con el nombre de la cancion\n",
    "\n",
    "    retries = 0 \n",
    "    while retries < 3:          #Numero de intentos antes de pasar a la siguiente cancion\n",
    "        try:\n",
    "            song = genius.search_song(track, artist)   #Busca la cancion por titulo y artista\n",
    "        except Timeout or requests.ConnectionError:    #Si se produce un error de conexión atrapa al error.\n",
    "            retries += 1        #Suma uno al contador de intentos.\n",
    "            continue            #Vuelve al principio del while.\n",
    "        if song is not None:    #Si ha encontrado la cancion la guarda\n",
    "            df.loc[index,'Lyric'] = song.lyrics\n",
    "        else:                   #Si no ha encontrado la cancion guarda un string vacio\n",
    "            df.loc[index,'Lyric'] = ''\n",
    "        break                   #Si llegamos a este punto es por que hemos encontrado una cancion y podemos romper el bucle.\n",
    "    df.to_csv(r'Lyrics.csv', index = False)"
   ]
  }
 ],
 "metadata": {
  "kernelspec": {
   "display_name": "Python 3",
   "language": "python",
   "name": "python3"
  },
  "language_info": {
   "codemirror_mode": {
    "name": "ipython",
    "version": 3
   },
   "file_extension": ".py",
   "mimetype": "text/x-python",
   "name": "python",
   "nbconvert_exporter": "python",
   "pygments_lexer": "ipython3",
   "version": "3.8.5"
  },
  "toc": {
   "base_numbering": 1,
   "nav_menu": {},
   "number_sections": true,
   "sideBar": true,
   "skip_h1_title": false,
   "title_cell": "Table of Contents",
   "title_sidebar": "Contents",
   "toc_cell": false,
   "toc_position": {},
   "toc_section_display": true,
   "toc_window_display": false
  },
  "varInspector": {
   "cols": {
    "lenName": 16,
    "lenType": 16,
    "lenVar": 40
   },
   "kernels_config": {
    "python": {
     "delete_cmd_postfix": "",
     "delete_cmd_prefix": "del ",
     "library": "var_list.py",
     "varRefreshCmd": "print(var_dic_list())"
    },
    "r": {
     "delete_cmd_postfix": ") ",
     "delete_cmd_prefix": "rm(",
     "library": "var_list.r",
     "varRefreshCmd": "cat(var_dic_list()) "
    }
   },
   "types_to_exclude": [
    "module",
    "function",
    "builtin_function_or_method",
    "instance",
    "_Feature"
   ],
   "window_display": false
  }
 },
 "nbformat": 4,
 "nbformat_minor": 5
}
