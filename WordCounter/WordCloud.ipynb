{
 "cells": [
  {
   "cell_type": "code",
   "execution_count": 1,
   "id": "equivalent-resource",
   "metadata": {},
   "outputs": [],
   "source": [
    "import string\n",
    "import pandas as pd\n",
    "import re\n",
    "from unidecode import unidecode\n",
    "from collections import Counter"
   ]
  },
  {
   "cell_type": "code",
   "execution_count": 2,
   "id": "sorted-behalf",
   "metadata": {},
   "outputs": [],
   "source": [
    "#Importamos el Dataset que se ha scrapeado de la Web con todos los Lyrics\n",
    "df = pd.read_csv('Lyrics.csv')\n",
    "#Reordenamos las columnas\n",
    "df = df[['id','Track','Artists','Lyric']]\n",
    "#Les cambiamos el nombre\n",
    "df.rename(columns = {'Lyric':'Lyrics'}, inplace = True)\n",
    "#Nos cargamos las filas que no tengan canciones\n",
    "df = df[['id','Track','Artists','Lyric']].dropna() \n",
    "#Nos cargamos las columnas que tengan featuring\n",
    "df.drop(df[df['WordCount'].str.contains('ft', regex=False)].index,inplace=True) \n",
    "#Filas que no tienen canciones 318 166 1232 1238 1064 704 137, encontradas por busqueda manual\n",
    "df.drop([318,166, 1232, 1238, 1064, 704, 137],inplace=True)"
   ]
  },
  {
   "cell_type": "code",
   "execution_count": 4,
   "id": "lasting-bahrain",
   "metadata": {},
   "outputs": [],
   "source": [
    "#Funcion para contar palabras de cada canción\n",
    "def WordCounter(song_lyrics):\n",
    "    raw_lyrics = song_lyrics.lower() #Letra de la cancion toda en minuscula\n",
    "    raw_lyrics = re.sub(f\"\\[.*?\\]\", '' ,raw_lyrics) #Removemos de la letra todo lo que este entre [ ]\n",
    "    raw_lyrics = unidecode(raw_lyrics) #Quitamos acentos\n",
    "    raw_lyrics = raw_lyrics.translate(str.maketrans('', '', string.punctuation+'¿¡')) #Removemos la puntuación\n",
    "    Lyric_list = re.split(r\"[\\u200b\\s]+\", raw_lyrics, flags=re.UNICODE) #Separamos por todos los tipos de espacio posibles\n",
    "\n",
    "    return Counter(word for word in Lyric_list if word not in stop_words) #Retorna un BoW"
   ]
  },
  {
   "cell_type": "code",
   "execution_count": 5,
   "id": "loose-calgary",
   "metadata": {},
   "outputs": [],
   "source": [
    "#Creamos una lista de Stop Words\n",
    "with open('stop_words_english.txt', encoding='utf-8') as f:\n",
    "        stop_words_string = f.read()\n",
    "        stop_words_string = stop_words_string.translate(str.maketrans('', '', \"'-.\")) #Removemos apostrofes\n",
    "        english_stop_words_list = stop_words_string.split()\n",
    "        \n",
    "with open('stop_words_spanish.txt', encoding='utf-8') as f:\n",
    "        stop_words_string = f.read()\n",
    "        stop_words_string = unidecode(stop_words_string) #Quitamos acentos\n",
    "        spanish_stop_words_list = stop_words_string.split()     \n",
    "        \n",
    "stop_words=['']\n",
    "stop_words.extend(spanish_stop_words_list)\n",
    "stop_words.extend(english_stop_words_list)"
   ]
  },
  {
   "cell_type": "code",
   "execution_count": 9,
   "id": "removed-conjunction",
   "metadata": {
    "scrolled": true
   },
   "outputs": [],
   "source": [
    "#Usamos assign para agregar una columna nueva para el WordCount\n",
    "#Creamos una columna con el WordCount de cada Lyric\n",
    "df = df.assign(WordCount=df.apply(lambda row: '' if pd.isnull(row['Lyrics']) else WordCounter(row['Lyrics']), axis=1).values )\n",
    "#Guardamos el dataset en un csv\n",
    "df.to_csv('Lyrics_WordCount.csv')"
   ]
  },
  {
   "cell_type": "code",
   "execution_count": 41,
   "id": "automatic-seattle",
   "metadata": {},
   "outputs": [],
   "source": [
    "#Creamos un elemento Counter que englobe todas las canciones\n",
    "DataSetWords = Counter()\n",
    "for song_lyrics in df['Lyrics']:\n",
    "    BagOfWords = WordCounter(song_lyrics)\n",
    "    DataSetWords.update(BagOfWords)"
   ]
  },
  {
   "cell_type": "code",
   "execution_count": 42,
   "id": "radical-roberts",
   "metadata": {},
   "outputs": [],
   "source": [
    "#Guardamos el dataset en un csv\n",
    "import csv #Convertimos el diccionario en un CSV\n",
    "with open('DataSetWords.csv', 'w') as f:\n",
    "    for key in DataSetWords.keys():\n",
    "        f.write(\"%s,%s\\n\"%(key,DataSetWords[key]))"
   ]
  }
 ],
 "metadata": {
  "kernelspec": {
   "display_name": "Python 3",
   "language": "python",
   "name": "python3"
  },
  "language_info": {
   "codemirror_mode": {
    "name": "ipython",
    "version": 3
   },
   "file_extension": ".py",
   "mimetype": "text/x-python",
   "name": "python",
   "nbconvert_exporter": "python",
   "pygments_lexer": "ipython3",
   "version": "3.8.5"
  },
  "toc": {
   "base_numbering": 1,
   "nav_menu": {},
   "number_sections": true,
   "sideBar": true,
   "skip_h1_title": false,
   "title_cell": "Table of Contents",
   "title_sidebar": "Contents",
   "toc_cell": false,
   "toc_position": {},
   "toc_section_display": true,
   "toc_window_display": false
  },
  "varInspector": {
   "cols": {
    "lenName": 16,
    "lenType": 16,
    "lenVar": 40
   },
   "kernels_config": {
    "python": {
     "delete_cmd_postfix": "",
     "delete_cmd_prefix": "del ",
     "library": "var_list.py",
     "varRefreshCmd": "print(var_dic_list())"
    },
    "r": {
     "delete_cmd_postfix": ") ",
     "delete_cmd_prefix": "rm(",
     "library": "var_list.r",
     "varRefreshCmd": "cat(var_dic_list()) "
    }
   },
   "types_to_exclude": [
    "module",
    "function",
    "builtin_function_or_method",
    "instance",
    "_Feature"
   ],
   "window_display": false
  }
 },
 "nbformat": 4,
 "nbformat_minor": 5
}
